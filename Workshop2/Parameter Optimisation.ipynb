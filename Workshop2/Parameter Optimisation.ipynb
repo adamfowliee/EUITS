{
 "cells": [
  {
   "cell_type": "code",
   "execution_count": 2,
   "id": "78295dda",
   "metadata": {},
   "outputs": [],
   "source": [
    "import numpy as np\n",
    "import pandas as pd\n",
    "from numpy.typing import NDArray\n",
    "import matplotlib.pyplot as plt"
   ]
  },
  {
   "cell_type": "markdown",
   "id": "5cfb2e24",
   "metadata": {},
   "source": [
    "# The market, and random movements explained"
   ]
  },
  {
   "cell_type": "markdown",
   "id": "cffb5b06",
   "metadata": {},
   "source": [
    "For next session!"
   ]
  },
  {
   "cell_type": "markdown",
   "id": "88de4a27",
   "metadata": {},
   "source": [
    "# Parameter Estimation\n",
    "\n",
    "We reviewed in our last session that the market can be modelled using a GBM, of the form:\n",
    "$$ds = \\mu S_t dt + \\sigma S_t dX(t)$$\n",
    "where $\\quad dW_t$ is a draw from $N(0,1)$. We have found an analytical solution last session, but we aim to find numerical solutions and compare them to the analytical solution we found for our parameters. \n",
    "\n",
    "However, we did not discuss the methods from which we can obtain these parameters from real world data, and we will review two different methods for obtaining this. Hence, we wish to find the parameters $\\mu$ and $\\sigma$ that best describes the distribution. "
   ]
  },
  {
   "cell_type": "code",
   "execution_count": 3,
   "id": "07f7aa1f",
   "metadata": {},
   "outputs": [],
   "source": [
    "from pandas import Timestamp\n",
    "\n",
    "\n",
    "ARRAY_F = NDArray[np.float64]\n",
    "DEFAULT_DT = 1.0 /252\n",
    "\n",
    "def create_weiner_array(size: int | tuple[int,...]) -> ARRAY_F:\n",
    "    dX = np.random.normal(0, np.sqrt(DEFAULT_DT), size)\n",
    "    X = dX.cumsum() \n",
    "    return X\n",
    "\n",
    "def create_gbm(mu: float, sigma: float,  dt: float, s_0: float, W: ARRAY_F) -> ARRAY_F:\n",
    "    S  = np.zeros_like(W)\n",
    "    S[0] = s_0\n",
    "    for i in range(1, len(W)):\n",
    "        S[i] = mu * S[i-1] * dt + sigma * S[i-1] * W[i] \n",
    "\n",
    "    return S"
   ]
  },
  {
   "cell_type": "markdown",
   "id": "4b3f521d",
   "metadata": {},
   "source": [
    "We invite you to play around wiith these functions, and concretely produce 2 plots:\n",
    "1. Families of paths with different parameter values for gbm\n",
    "2. Average paths and path distributions at different points in time. \n",
    "\n",
    "What is evident from these distributions?"
   ]
  },
  {
   "cell_type": "markdown",
   "id": "ce0db903",
   "metadata": {},
   "source": [
    "# Maximum Likelihood Estimation (MLE)\n",
    "\n",
    "We wish to find the parameters $\\mu$ and $\\sigma$ that maximise the total probability that the observed data was drawn from the distribution generated with parameters $\\mu$ and $\\sigma$. Recall that GBM has an analytical solution:\n",
    "$$S_t = S_0 \\text{exp}\\left((\\mu - \\frac{1}{2}\\sigma^2)t + \\sigma W_t\\right)$$\n",
    "Let $X = \\ln{S}$, hence we find that:\n",
    "\n",
    "$$ dX_t = X_{t+dt}-X_t = \\ln  {S_{t+dt} - \\ln S_t} = \\ln\\left(\\frac{S_{t+dt}}{S_t}\\right)$$\n",
    "which simplifies to:\n",
    "\n",
    "$$dX_t = (\\mu - \\frac{1}{2}\\sigma^2)dt + \\sigma dW_t$$\n",
    "we can conclude that:\n",
    "$$dX ∼ \\mathcal{N}  ((\\mu - \\frac{1}{2}\\sigma^2) \\Delta t_i , \\sigma^2 \\Delta t_i)$$\n",
    "From the normal distribution function, letting $m = \\mu - \\frac{1}{2}\\sigma^2$, we obtain that the probability density of $(Y_i)_{i=0}^n$ is:\n",
    "\n",
    "$$\n",
    "L(\\mu,\\sigma)\n",
    "=\\prod_{i=1}^n\n",
    "\\frac{1}{\\sqrt{2\\pi\\,\\sigma^2\\Delta t_i}}\n",
    "\\exp\\!\\left(\n",
    "-\\frac{\\big(Y_i-m\\Delta t_i\\big)^2}{2\\,\\sigma^2\\Delta t_i}\n",
    "\\right)\n",
    "$$\n",
    "and hence the log-likelihood is described by:\n",
    "$$\n",
    "\\ell(\\mu,\\sigma):=\\ln L(\\mu,\\sigma)\n",
    "= -\\tfrac12\\sum_{i=1}^n\n",
    "\\left[\n",
    "\\ln\\!\\big(2\\pi\\,\\sigma^2\\Delta t_i\\big)\n",
    "+\\frac{\\big(Y_i-m\\Delta t_i\\big)^2}{\\sigma^2\\Delta t_i}\n",
    "\\right].\n",
    "$$\n",
    "Thus, we aim to maximise the log likelihood of the parameters. We can find the analytical solution by setting partial derivatives equal to zero, below are the equations for the solutions:\n",
    "$$\n",
    "\\sigma^2 = \\frac{1}{n}\\sum_{i=1}^n \\frac{(Y_i - \\hat{m}\\Delta t_i)^2}{\\Delta t_i}\n",
    "\\\\\n",
    "\\mu = \\hat{m} + \\frac{1}{2}\\sigma^2 \\\\\n",
    "\\text{where:} \\\\ \\\\ \\\\\n",
    "\\hat{m} = \\frac{\\sum_{i=1}^n Y_i}{\\sum_{i=0}^n \\Delta t_i}\n"
   ]
  },
  {
   "cell_type": "markdown",
   "id": "f53efd5c",
   "metadata": {},
   "source": [
    "## Function optimiser:\n",
    "$$\n",
    "\\ell(\\mu,\\sigma)\n",
    "= -\\tfrac12\\sum_{i=1}^n\n",
    "\\left[\n",
    "\\ln(\\sigma^2)\n",
    "+\\frac{\\big(Y_i-m\\Delta t_i\\big)^2}{\\sigma^2\\Delta t_i}\n",
    "\\right]\n",
    "+ O(1)\n",
    "$$"
   ]
  },
  {
   "cell_type": "code",
   "execution_count": 10,
   "id": "0da30e72",
   "metadata": {},
   "outputs": [],
   "source": [
    "def log_likelihood(mu: float, sigma: float, equity_path: ARRAY_F):\n",
    "        m = mu - (1/2) * sigma * sigma\n",
    "        ll_sum = 0\n",
    "        for i in range(len(equity_path)):\n",
    "            ll_sum += np.log(sigma*sigma) + ((equity_path[i] - m*DEFAULT_DT)**2 / (sigma*sigma*DEFAULT_DT))\n",
    "\n",
    "        ll_sum_adjusted = (-1/2) * ll_sum\n",
    "        return ll_sum_adjusted\n",
    "            \n",
    "\n",
    "def optimise_params_mle_analytical(equity_path: ARRAY_F) -> tuple[float, float]:\n",
    "    prices = np.asarray(equity_path, dtype=np.float64)\n",
    "    if prices.ndim != 1:\n",
    "        raise ValueError(\"equity_path must be a 1D array of prices\")\n",
    "    if prices.size < 2:\n",
    "        raise ValueError(\"equity_path must contain at least two prices\")\n",
    "    if not np.all(prices > 0.0):\n",
    "        raise ValueError(\"all prices must be strictly positive\")\n",
    "\n",
    "    log_prices = np.log(prices)\n",
    "    log_returns = np.diff(log_prices)\n",
    "\n",
    "    n_observations = log_returns.size\n",
    "\n",
    "    mean_log_return = float(np.mean(log_returns))\n",
    "    centered_log_returns = log_returns - mean_log_return\n",
    "\n",
    "    # \\hat{\\sigma}^2 = (1/(n \\Delta t)) \\sum (Y_i - \\bar Y)^2\n",
    "    sigma_squared_hat = float((centered_log_returns @ centered_log_returns) / (n_observations * DEFAULT_DT))\n",
    "    if sigma_squared_hat <= 0.0:\n",
    "        raise ValueError(\"estimated variance is non-positive; check input data\")\n",
    "\n",
    "    sigma_hat = float(np.sqrt(sigma_squared_hat))\n",
    "\n",
    "    # \\hat{\\mu} = \\bar Y / \\Delta t + (1/2) \\hat{\\sigma}^2\n",
    "    mu_hat = float(mean_log_return / DEFAULT_DT + 0.5 * sigma_squared_hat)\n",
    "\n",
    "    return mu_hat, sigma_hat\n",
    "\n",
    "def optimise_params_mle_numerical(\n",
    "    equity_path: ARRAY_F,\n",
    "    mu_bounds: tuple[float, float] = (-2.0, 2.0),\n",
    "    sigma_bounds: tuple[float, float] = (1e-6, 2.0),\n",
    "    mu_grid_size: int = 301,\n",
    "    sigma_grid_size: int = 301,\n",
    ") -> tuple[float, float]:\n",
    "    prices = np.asarray(equity_path, dtype=np.float64)\n",
    "    if prices.ndim != 1:\n",
    "        raise ValueError(\"equity_path must be a 1D array of prices\")\n",
    "    if prices.size < 2:\n",
    "        raise ValueError(\"equity_path must contain at least two prices\")\n",
    "    if not np.all(prices > 0.0):\n",
    "        raise ValueError(\"all prices must be strictly positive\")\n",
    "\n",
    "    mu_grid = np.linspace(mu_bounds[0], mu_bounds[1], mu_grid_size, dtype=np.float64)\n",
    "    sigma_grid = np.linspace(sigma_bounds[0], sigma_bounds[1], sigma_grid_size, dtype=np.float64)\n",
    "\n",
    "    best_mu = 0.0\n",
    "    best_sigma = 0.0\n",
    "    best_ll = -np.inf\n",
    "\n",
    "    for sigma_candidate in sigma_grid:\n",
    "        for mu_candidate in mu_grid:\n",
    "            ll_value = log_likelihood(mu_candidate, sigma_candidate, prices)\n",
    "            if ll_value > best_ll:\n",
    "                best_ll = ll_value\n",
    "                best_mu = mu_candidate\n",
    "                best_sigma = sigma_candidate\n",
    "\n",
    "    return float(best_mu), float(best_sigma)"
   ]
  },
  {
   "cell_type": "markdown",
   "id": "81a615cf",
   "metadata": {},
   "source": [
    "# Project\n",
    "\n",
    "Implement the functions below, and for an added difficulty; derive and recreate the functions above. We will expand on this later!"
   ]
  },
  {
   "cell_type": "code",
   "execution_count": null,
   "id": "2ed95a7a",
   "metadata": {},
   "outputs": [],
   "source": [
    "\n",
    "\n",
    "def model_equity(ticker: str, start_date: Timestamp, end_date: Timestamp) -> ARRAY_F:\n",
    "    ...\n",
    "\n",
    "def simulate_equity_matrix(tickers: list[str]):\n",
    "    ... \n",
    "\n",
    "def retrieve_equity_matrix(tickers: list[str]):\n",
    "    ..."
   ]
  }
 ],
 "metadata": {
  "kernelspec": {
   "display_name": "quantenv",
   "language": "python",
   "name": "python3"
  },
  "language_info": {
   "codemirror_mode": {
    "name": "ipython",
    "version": 3
   },
   "file_extension": ".py",
   "mimetype": "text/x-python",
   "name": "python",
   "nbconvert_exporter": "python",
   "pygments_lexer": "ipython3",
   "version": "3.11.13"
  }
 },
 "nbformat": 4,
 "nbformat_minor": 5
}
